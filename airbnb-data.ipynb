{
 "cells": [
  {
   "cell_type": "code",
   "execution_count": null,
   "id": "2972c46a",
   "metadata": {},
   "outputs": [],
   "source": [
    "import pandas as pd\n",
    "from pathlib import Path\n",
    "import time\n",
    "from pandas_geojson import read_geojson_url"
   ]
  },
  {
   "cell_type": "code",
   "execution_count": null,
   "id": "8e0d780a",
   "metadata": {},
   "outputs": [],
   "source": []
  },
  {
   "cell_type": "code",
   "execution_count": null,
   "id": "c9b679c8",
   "metadata": {},
   "outputs": [],
   "source": [
    "batch_date = '2023-06-05'\n",
    "\n",
    "base_url = 'http://data.insideairbnb.com/the-netherlands/north-holland/amsterdam'"
   ]
  },
  {
   "cell_type": "code",
   "execution_count": null,
   "id": "6bcfb43f",
   "metadata": {},
   "outputs": [],
   "source": [
    "listings = f\"{base_url}/{batch_date}/data/listings.csv.gz\"\n",
    "calendar = f\"{base_url}/{batch_date}/data/calendar.csv.gz\"\n",
    "reviews = f\"{base_url}/{batch_date}/data/reviews.csv.gz\""
   ]
  },
  {
   "cell_type": "code",
   "execution_count": null,
   "id": "2873fc2c",
   "metadata": {},
   "outputs": [],
   "source": [
    "listings2 = f\"{base_url}/{batch_date}/visualisations/listings.csv\""
   ]
  },
  {
   "cell_type": "code",
   "execution_count": null,
   "id": "a4b54237",
   "metadata": {},
   "outputs": [],
   "source": [
    "listing = pd.read_csv(listings)\n",
    "calendarr = pd.read_csv(calendar)\n",
    "review = pd.read_csv(reviews)"
   ]
  },
  {
   "cell_type": "code",
   "execution_count": null,
   "id": "0a8ec446",
   "metadata": {},
   "outputs": [],
   "source": [
    "listing2 = pd.read_csv(listings2)"
   ]
  },
  {
   "cell_type": "code",
   "execution_count": null,
   "id": "8dffcb28",
   "metadata": {},
   "outputs": [],
   "source": [
    "listing"
   ]
  },
  {
   "cell_type": "code",
   "execution_count": null,
   "id": "0926f9fd",
   "metadata": {},
   "outputs": [],
   "source": []
  },
  {
   "cell_type": "code",
   "execution_count": null,
   "id": "0ea7d78c",
   "metadata": {},
   "outputs": [],
   "source": []
  },
  {
   "cell_type": "code",
   "execution_count": null,
   "id": "a559db8c",
   "metadata": {},
   "outputs": [],
   "source": [
    "listing2.columns"
   ]
  },
  {
   "cell_type": "code",
   "execution_count": null,
   "id": "a1e0c58c",
   "metadata": {},
   "outputs": [],
   "source": []
  },
  {
   "cell_type": "code",
   "execution_count": null,
   "id": "a539c960",
   "metadata": {},
   "outputs": [],
   "source": [
    "neighbour = pd.read_csv('http://data.insideairbnb.com/the-netherlands/north-holland/amsterdam/2023-06-05/visualisations/neighbourhoods.csv')"
   ]
  },
  {
   "cell_type": "code",
   "execution_count": null,
   "id": "4e27bb46",
   "metadata": {},
   "outputs": [],
   "source": [
    "neighbour"
   ]
  },
  {
   "cell_type": "code",
   "execution_count": null,
   "id": "58edd283",
   "metadata": {},
   "outputs": [],
   "source": []
  },
  {
   "cell_type": "code",
   "execution_count": null,
   "id": "c7c651d0",
   "metadata": {},
   "outputs": [],
   "source": [
    "geo_json = read_geojson_url('http://data.insideairbnb.com/the-netherlands/north-holland/amsterdam/2023-06-05/visualisations/neighbourhoods.geojson')"
   ]
  },
  {
   "cell_type": "code",
   "execution_count": null,
   "id": "3e024dd7",
   "metadata": {},
   "outputs": [],
   "source": [
    "geo_json"
   ]
  },
  {
   "cell_type": "code",
   "execution_count": null,
   "id": "52ae5f5d",
   "metadata": {},
   "outputs": [],
   "source": [
    "geo = pd.read_json(geo_json, orient ='index')"
   ]
  },
  {
   "cell_type": "code",
   "execution_count": null,
   "id": "1851590e",
   "metadata": {},
   "outputs": [],
   "source": []
  },
  {
   "cell_type": "code",
   "execution_count": null,
   "id": "a2e6a169",
   "metadata": {},
   "outputs": [],
   "source": []
  },
  {
   "cell_type": "code",
   "execution_count": null,
   "id": "e7a29ec1",
   "metadata": {},
   "outputs": [],
   "source": []
  },
  {
   "cell_type": "code",
   "execution_count": null,
   "id": "bbd791bf",
   "metadata": {},
   "outputs": [],
   "source": [
    "len(listing)"
   ]
  },
  {
   "cell_type": "code",
   "execution_count": null,
   "id": "606af4a4",
   "metadata": {},
   "outputs": [],
   "source": [
    "calendarr.head(7)"
   ]
  },
  {
   "cell_type": "code",
   "execution_count": null,
   "id": "e291d88b",
   "metadata": {},
   "outputs": [],
   "source": [
    "review.head(10)"
   ]
  },
  {
   "cell_type": "code",
   "execution_count": null,
   "id": "78d94867",
   "metadata": {},
   "outputs": [],
   "source": [
    "listing.head(7)"
   ]
  },
  {
   "cell_type": "code",
   "execution_count": null,
   "id": "cdeca417",
   "metadata": {},
   "outputs": [],
   "source": [
    "# parquetize and save to local\n",
    "data_dir = f'airbnb/amsterdam'\n",
    "Path(data_dir).mkdir(parents=True, exist_ok=True)\n",
    "path = Path(f'{data_dir}/{____}.parquet')\n",
    "df.to_parquet(path, compression='gzip')"
   ]
  },
  {
   "cell_type": "code",
   "execution_count": null,
   "id": "d79051d9",
   "metadata": {},
   "outputs": [],
   "source": []
  },
  {
   "cell_type": "code",
   "execution_count": null,
   "id": "d55777bd",
   "metadata": {},
   "outputs": [],
   "source": []
  },
  {
   "cell_type": "code",
   "execution_count": null,
   "id": "44db3364",
   "metadata": {},
   "outputs": [],
   "source": []
  },
  {
   "cell_type": "code",
   "execution_count": null,
   "id": "2f4d5846",
   "metadata": {},
   "outputs": [],
   "source": []
  },
  {
   "cell_type": "code",
   "execution_count": null,
   "id": "27c7ac09",
   "metadata": {},
   "outputs": [],
   "source": [
    "# the backup files are gzipped, and it's important to keep the correct extension\n",
    "    # for pandas to be able to open the file\n",
    "    if url.endswith('.csv.gz'):\n",
    "        csv_name = 'output.csv.gz'\n",
    "    else:\n",
    "        csv_name = 'output.csv'\n",
    "\n",
    "    os.system(f\"wget {url} -O {csv_name}\")\n",
    "\n",
    "    engine = create_engine(f'postgresql://{user}:{password}@{host}:{port}/{db}')\n",
    "\n",
    "    df_iter = pd.read_csv(csv_name, iterator=True, chunksize=100000)\n",
    "\n",
    "    df = next(df_iter)\n",
    "\n",
    "    df.tpep_pickup_datetime = pd.to_datetime(df.tpep_pickup_datetime)\n",
    "    df.tpep_dropoff_datetime = pd.to_datetime(df.tpep_dropoff_datetime)\n",
    "\n",
    "    df.head(n=0).to_sql(name=table_name, con=engine, if_exists='replace')\n",
    "\n",
    "    df.to_sql(name=table_name, con=engine, if_exists='append')\n",
    "\n",
    "\n",
    "    while True: \n",
    "\n",
    "        try:\n",
    "            t_start = time()\n",
    "            \n",
    "            df = next(df_iter)\n",
    "\n",
    "            df.tpep_pickup_datetime = pd.to_datetime(df.tpep_pickup_datetime)\n",
    "            df.tpep_dropoff_datetime = pd.to_datetime(df.tpep_dropoff_datetime)\n",
    "\n",
    "            df.to_sql(name=table_name, con=engine, if_exists='append')\n",
    "\n",
    "            t_end = time()\n",
    "\n",
    "            print('inserted another chunk, took %.3f second' % (t_end - t_start))\n",
    "\n",
    "        except StopIteration:\n",
    "            print(\"Finished ingesting data into the postgres database\")\n",
    "            break\n"
   ]
  }
 ],
 "metadata": {
  "kernelspec": {
   "display_name": "Python 3 (ipykernel)",
   "language": "python",
   "name": "python3"
  },
  "language_info": {
   "codemirror_mode": {
    "name": "ipython",
    "version": 3
   },
   "file_extension": ".py",
   "mimetype": "text/x-python",
   "name": "python",
   "nbconvert_exporter": "python",
   "pygments_lexer": "ipython3",
   "version": "3.9.16"
  }
 },
 "nbformat": 4,
 "nbformat_minor": 5
}
